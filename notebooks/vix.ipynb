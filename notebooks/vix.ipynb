{
 "cells": [
  {
   "cell_type": "markdown",
   "metadata": {},
   "source": [
    "## VIX"
   ]
  },
  {
   "cell_type": "code",
   "execution_count": 2,
   "metadata": {},
   "outputs": [
    {
     "name": "stdout",
     "output_type": "stream",
     "text": [
      "Correlation: -0.9999999999999999\n"
     ]
    }
   ],
   "source": [
    "# Step 1: Add the 'src' directory to the path\n",
    "import sys\n",
    "from pathlib import Path\n",
    "\n",
    "src_path = Path.cwd().parent / 'src'  # Adjust based on your actual path to 'src'\n",
    "sys.path.append(str(src_path))\n",
    "\n",
    "# Step 2: Import the TradingTimeSeries class\n",
    "from trading_time_series import TradingTimeSeries\n",
    "\n",
    "# Step 3: Use the TradingTimeSeries class\n",
    "import pandas as pd\n",
    "\n",
    "# Example data\n",
    "data1 = pd.Series([1, 2, 3, 4, 5], index=pd.date_range('2023-01-01', periods=5))\n",
    "data2 = pd.Series([5, 4, 3, 2, 1], index=pd.date_range('2023-01-01', periods=5))\n",
    "\n",
    "series1 = TradingTimeSeries(data=data1)\n",
    "series2 = TradingTimeSeries(data=data2)\n",
    "\n",
    "# Calculate correlation\n",
    "correlation = series1.compute_correlation(series2)\n",
    "print(\"Correlation:\", correlation)\n"
   ]
  },
  {
   "cell_type": "code",
   "execution_count": null,
   "metadata": {},
   "outputs": [],
   "source": []
  }
 ],
 "metadata": {
  "kernelspec": {
   "display_name": "finance",
   "language": "python",
   "name": "finance"
  },
  "language_info": {
   "codemirror_mode": {
    "name": "ipython",
    "version": 3
   },
   "file_extension": ".py",
   "mimetype": "text/x-python",
   "name": "python",
   "nbconvert_exporter": "python",
   "pygments_lexer": "ipython3",
   "version": "3.11.6"
  }
 },
 "nbformat": 4,
 "nbformat_minor": 2
}
